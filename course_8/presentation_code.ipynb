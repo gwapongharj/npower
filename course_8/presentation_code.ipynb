{
 "cells": [
  {
   "cell_type": "markdown",
   "id": "23450efb-fa8c-4160-a4e8-488b20362052",
   "metadata": {},
   "source": [
    "<p style=\"text-align:center\">\n",
    "    <a href=\"https://github.com/gwapongharj\" target=\"_blank\">\n",
    "    <img src=\"https://media.istockphoto.com/id/1212898718/vector/children-with-cheeks-with-smiles.jpg?s=612x612&w=0&k=20&c=vWcwYqXgQ9aDGsuWusDr_ei4pRHiJmT-YSXU-cFW_dI=\" width=\"300\" alt=\"Group 6 Logo\">\n",
    "    </a>\n",
    "</p>\n",
    "\n",
    "<h1 align=\"center\"><font size=\"5\">Group 6 Course 8 Presentation </font></h1>\n"
   ]
  },
  {
   "cell_type": "markdown",
   "id": "fae6af9a-adb1-4c20-b81c-7ca8f57740c9",
   "metadata": {},
   "source": [
    "## **Import the required libraries**\n"
   ]
  },
  {
   "cell_type": "code",
   "execution_count": null,
   "id": "ec71f8df-18b5-4f32-9034-dfb2897e84ed",
   "metadata": {},
   "outputs": [],
   "source": [
    "import folium\n",
    "import numpy as np  # useful for many scientific computing in Python\n",
    "import pandas as pd # primary data structure library\n",
    "import plotly.io as pio\n",
    "import json\n",
    "pio.renderers.default='chrome'\n",
    "print('Imported Libraries!')"
   ]
  },
  {
   "cell_type": "markdown",
   "metadata": {},
   "source": [
    "# Using Folium"
   ]
  },
  {
   "cell_type": "markdown",
   "metadata": {},
   "source": [
    "Creating and displaying a map object (World map)"
   ]
  },
  {
   "cell_type": "code",
   "execution_count": null,
   "metadata": {},
   "outputs": [],
   "source": [
    "world_map = folium.Map()\n",
    "world_map"
   ]
  },
  {
   "cell_type": "markdown",
   "metadata": {},
   "source": [
    "Center the world map on Edmonton by providing the latitude and longitude coordinates with a lower zoom level"
   ]
  },
  {
   "cell_type": "code",
   "execution_count": null,
   "metadata": {},
   "outputs": [],
   "source": [
    "edmonton = folium.Map(location=[53.631611,  -113.323975], zoom_start=4)\n",
    "edmonton"
   ]
  },
  {
   "cell_type": "markdown",
   "metadata": {},
   "source": [
    "Center the world map on Edmonton by providing the latitude and longitude coordinates with a higher zoom level"
   ]
  },
  {
   "cell_type": "code",
   "execution_count": null,
   "metadata": {},
   "outputs": [],
   "source": [
    "\n",
    "edmonton = folium.Map(location=[53.631611,  -113.323975], zoom_start=10, min_zoom=8,max_zoom=14)\n",
    "edmonton"
   ]
  },
  {
   "cell_type": "markdown",
   "metadata": {},
   "source": [
    "Center the world map on Edmonton by providing the latitude and longitude coordinates with a higher zoom level and tiles cartodb positron"
   ]
  },
  {
   "cell_type": "code",
   "execution_count": null,
   "metadata": {},
   "outputs": [],
   "source": [
    "edmonton = folium.Map(location=[53.631611,  -113.323975], zoom_start=10, tiles=\"cartodb positron\")\n",
    "edmonton"
   ]
  },
  {
   "cell_type": "markdown",
   "metadata": {},
   "source": [
    "Center the world map on Edmonton by providing the latitude and longitude coordinates with a higher zoom level and tiles cartodb dark matter\n",
    "\n",
    "Other tile options are \"Stamen Terrain\",\"Stamen Toner\", \"Stamen Water Color\""
   ]
  },
  {
   "cell_type": "code",
   "execution_count": null,
   "metadata": {},
   "outputs": [],
   "source": [
    "edmonton = folium.Map(location=[53.631611,  -113.323975], zoom_start=10, tiles=\"Cartodb dark_matter\")\n",
    "edmonton\n",
    "edmonton.save(\"Edmonton.html\")"
   ]
  },
  {
   "cell_type": "code",
   "execution_count": null,
   "metadata": {},
   "outputs": [],
   "source": [
    "# Center the world map on Canada by providing the latitude and longitude coordinates with a lower zoom level\n",
    "# Canada = folium.Map(location=[56.130, -106.35], zoom_start=4)\n",
    "# sw = [48.422198, -123.357404]\n",
    "# ne = [60.380114, -64.704082]\n",
    "# canada.fit_bounds([sw, ne])\n",
    "\n",
    "# canada"
   ]
  },
  {
   "cell_type": "markdown",
   "metadata": {},
   "source": [
    "# Using Folium with Markers"
   ]
  },
  {
   "cell_type": "markdown",
   "metadata": {},
   "source": [
    "Creating and displaying a map object (Canada)"
   ]
  },
  {
   "cell_type": "code",
   "execution_count": null,
   "metadata": {},
   "outputs": [],
   "source": [
    "canada = folium.Map(location =[57.728431785179765, -102.07401642265172], zoom_start = 4)\n",
    "\n",
    "canada"
   ]
  },
  {
   "cell_type": "markdown",
   "metadata": {},
   "source": [
    "Adding a marker for Calgary"
   ]
  },
  {
   "cell_type": "code",
   "execution_count": null,
   "metadata": {},
   "outputs": [],
   "source": [
    "folium.Marker(location = [51.0397848880259, -114.05375758025377],popup = 'Calgary').add_to(canada)\n",
    "\n",
    "canada"
   ]
  },
  {
   "cell_type": "markdown",
   "metadata": {},
   "source": [
    "The alternative way of adding markers is by using feature groups"
   ]
  },
  {
   "cell_type": "code",
   "execution_count": null,
   "metadata": {},
   "outputs": [],
   "source": [
    "#create a feature group\n",
    "alberta = folium.map.FeatureGroup()\n",
    "\n",
    "# add a child to the feature group(alberta) style the feature group\n",
    "alberta.add_child(\n",
    "    folium.features.CircleMarker(\n",
    "    [51.1105376883181, -114.11521234794277],\n",
    "    radius = 5, color = 'red', fill = True, fill_color = 'red'\n",
    "    )\n",
    ")\n",
    "\n",
    "#add feature group to the map(canada_map)\n",
    "canada.add_child(alberta)\n",
    "folium.Marker([51.1105376883181, -114.11521234794277],'Nose Hill').add_to(canada)\n",
    "\n",
    "canada"
   ]
  },
  {
   "cell_type": "markdown",
   "metadata": {},
   "source": [
    "# Adding Multiple Markers with Folium"
   ]
  },
  {
   "cell_type": "code",
   "execution_count": null,
   "metadata": {},
   "outputs": [],
   "source": [
    "# Create a list of locations\n",
    "\n",
    "locations = [\n",
    "    {\"location\": [51.09821722586114, -114.0530899415362], \"popup\": \"ChengDu\"},\n",
    "    {\"location\": [51.065446035744515, -113.97263954554721], \"popup\": \"Jollibee\"},\n",
    "    {\"location\": [51.06766187023357, -114.06338851739429], \"popup\": \"Oppa BBQ\"}\n",
    "    #add more locations here\n",
    "]\n",
    "\n",
    "# Use a for loop to iterate through the locations and add it to the map object\n",
    "\n",
    "for loc in locations:\n",
    "    folium.Marker(location=loc['location'],popup=loc['popup']).add_to(canada)\n",
    "\n",
    "canada"
   ]
  },
  {
   "cell_type": "markdown",
   "metadata": {},
   "source": [
    "Import CSV to your data frame"
   ]
  },
  {
   "cell_type": "code",
   "execution_count": null,
   "metadata": {},
   "outputs": [],
   "source": [
    "df = pd.read_csv('/Users/harjin/Desktop/NPOWER/npower_git/npower/course_8/cgn_ab_csv_eng.csv')\n",
    "df = df[df[\"Generic Term\"]==\"City\"]\n"
   ]
  },
  {
   "cell_type": "markdown",
   "metadata": {},
   "source": [
    "Get each 'Latitude', 'Longitude' and 'Geographical Name' column data from your df and create a marker\n",
    "\n",
    "Remember to add this to your map"
   ]
  },
  {
   "cell_type": "code",
   "execution_count": null,
   "metadata": {},
   "outputs": [],
   "source": [
    "canada = folium.Map(location =[57.728431785179765, -102.07401642265172], zoom_start = 4)\n",
    "\n",
    "for index, row in df.iterrows():\n",
    "    folium.Marker(location = [row['Latitude'], row['Longitude']],popup = row['Geographical Name']).add_to(canada)\n",
    "\n",
    "canada"
   ]
  },
  {
   "cell_type": "markdown",
   "metadata": {},
   "source": [
    "# Choropleth Maps"
   ]
  },
  {
   "cell_type": "markdown",
   "metadata": {},
   "source": [
    "Download and read data to your pandas dataframe"
   ]
  },
  {
   "cell_type": "code",
   "execution_count": null,
   "metadata": {},
   "outputs": [],
   "source": [
    "df = pd.read_csv('https://cf-courses-data.s3.us.cloud-object-storage.appdomain.cloud/IBMDeveloperSkillsNetwork-DV0101EN-SkillsNetwork/Data%20Files/Canada.csv')\n",
    "\n",
    "print('Data downloaded and read into a dataframe!')"
   ]
  },
  {
   "cell_type": "markdown",
   "metadata": {},
   "source": [
    "Check the first five items in your dataset"
   ]
  },
  {
   "cell_type": "code",
   "execution_count": null,
   "metadata": {},
   "outputs": [],
   "source": [
    "df.head()"
   ]
  },
  {
   "cell_type": "markdown",
   "metadata": {},
   "source": [
    "Check how many entires are in your dataset"
   ]
  },
  {
   "cell_type": "code",
   "execution_count": null,
   "metadata": {},
   "outputs": [],
   "source": [
    "print(df.shape)"
   ]
  },
  {
   "cell_type": "markdown",
   "metadata": {},
   "source": [
    "Download GeoJSON file to get boundaries of the state"
   ]
  },
  {
   "cell_type": "code",
   "execution_count": null,
   "metadata": {},
   "outputs": [],
   "source": [
    "# ! wget --quiet https://cf-courses-data.s3.us.cloud-object-storage.appdomain.cloud/IBMDeveloperSkillsNetwork-DV0101EN-SkillsNetwork/Data%20Files/world_countries.json\n",
    "    \n",
    "print('GeoJSON file downloaded!')"
   ]
  },
  {
   "cell_type": "markdown",
   "metadata": {},
   "source": [
    "Create a world map centered at lat=0 and long=0"
   ]
  },
  {
   "cell_type": "code",
   "execution_count": null,
   "metadata": {},
   "outputs": [],
   "source": [
    "world_geo = r'https://cf-courses-data.s3.us.cloud-object-storage.appdomain.cloud/IBMDeveloperSkillsNetwork-DV0101EN-SkillsNetwork/Data%20Files/world_countries.json' # geojson file\n",
    "\n",
    "# create a plain world map\n",
    "world_map = folium.Map(location=[0, 0], zoom_start=2)"
   ]
  },
  {
   "cell_type": "markdown",
   "metadata": {},
   "source": [
    "Create a Choropleth map with the world_geo GeoJSON filr and also your data frame\n",
    "\n",
    "Use the country column (coulumns=) in your df to key on (key_on=) the feature.properties.name ()"
   ]
  },
  {
   "cell_type": "code",
   "execution_count": null,
   "metadata": {},
   "outputs": [],
   "source": [
    "folium.Choropleth(\n",
    "    geo_data=world_geo,\n",
    "    data=df,\n",
    "    columns=['Country', 'Total'],\n",
    "    key_on='feature.properties.name',\n",
    "    fill_color='OrRd', \n",
    "    fill_opacity=0.7, \n",
    "    line_opacity=0.2,\n",
    "    legend_name='Immigration to Canada',\n",
    "    highlight=True,\n",
    "    reset=True\n",
    ").add_to(world_map)\n",
    "\n",
    "folium.LayerControl().add_to(world_map)\n",
    "\n",
    "world_map"
   ]
  },
  {
   "cell_type": "markdown",
   "metadata": {},
   "source": [
    "# Choropleth Maps (Calgary, code not working)"
   ]
  },
  {
   "cell_type": "markdown",
   "metadata": {},
   "source": [
    "Download or import CSV to your pandas dataframe"
   ]
  },
  {
   "cell_type": "code",
   "execution_count": null,
   "metadata": {},
   "outputs": [],
   "source": [
    "link=\"https://data.calgary.ca/resource/fd9t-tdn2.csv\"\n",
    "\n",
    "df_CalSchools=pd.read_csv(link)\n",
    "\n",
    "print(\"Data has been imported!\")"
   ]
  },
  {
   "cell_type": "markdown",
   "metadata": {},
   "source": [
    "Check the data imported"
   ]
  },
  {
   "cell_type": "code",
   "execution_count": null,
   "metadata": {},
   "outputs": [],
   "source": [
    "df_CalSchools.head()"
   ]
  },
  {
   "cell_type": "markdown",
   "metadata": {},
   "source": [
    "Print the shape of the dataset to see how many entries there are"
   ]
  },
  {
   "cell_type": "code",
   "execution_count": null,
   "metadata": {},
   "outputs": [],
   "source": [
    "print(df_CalSchools.shape)"
   ]
  },
  {
   "cell_type": "markdown",
   "metadata": {},
   "source": [
    "Run this only once"
   ]
  },
  {
   "cell_type": "code",
   "execution_count": null,
   "metadata": {},
   "outputs": [],
   "source": [
    "# ! wget --quiet https://data.calgary.ca/resource/j9ps-fyst.geojson\n",
    "# ! wget --quiet https://data.calgary.ca/resource/rkfr-buzb.json\n",
    "# ! wget --quiet https://data.calgary.ca/resource/j9ps-fyst.json"
   ]
  },
  {
   "cell_type": "markdown",
   "metadata": {},
   "source": [
    "Create a new Folium map object centered around Calgary"
   ]
  },
  {
   "cell_type": "code",
   "execution_count": null,
   "metadata": {},
   "outputs": [],
   "source": [
    "calgary = folium.Map(location=[0, 0], zoom_start=2)\n",
    "\n",
    "sw = [50.893852, -114.123016]\n",
    "ne = [51.176911, -113.913757]\n",
    "\n",
    "calgary.fit_bounds([sw,ne])\n",
    "calgary"
   ]
  },
  {
   "cell_type": "code",
   "execution_count": null,
   "metadata": {},
   "outputs": [],
   "source": [
    "calgary_geo = r'/Users/harjin/Desktop/NPOWER/npower_git/npower/course_8/j9ps-fyst.geojson'\n",
    "df_cal = pd.read_json(\"/Users/harjin/Desktop/NPOWER/npower_git/npower/course_8/rkfr-buzb.json\")"
   ]
  },
  {
   "cell_type": "code",
   "execution_count": null,
   "metadata": {},
   "outputs": [],
   "source": [
    "# folium.Choropleth(\n",
    "#     geo_data=calgary_geo,\n",
    "#     data=df_cal,\n",
    "#     columns=['comm_code', 'res_cnt'],\n",
    "#     key_on='feature.properties.comm_code',\n",
    "#     fill_color='YlOrRd', \n",
    "#     fill_opacity=0.7, \n",
    "#     line_opacity=0.2,\n",
    "#     legend_name='Immigration to Canada',\n",
    "#     reset=True\n",
    "#     ).add_to(calgary)\n",
    "# folium.LayerControl.add_to(calgary)\n",
    "# calgary\n",
    "com_group = df_cal.groupby('comm_code').count()"
   ]
  },
  {
   "cell_type": "code",
   "execution_count": null,
   "metadata": {},
   "outputs": [],
   "source": []
  }
 ],
 "metadata": {
  "kernelspec": {
   "display_name": ".venv",
   "language": "python",
   "name": "python3"
  },
  "language_info": {
   "codemirror_mode": {
    "name": "ipython",
    "version": 3
   },
   "file_extension": ".py",
   "mimetype": "text/x-python",
   "name": "python",
   "nbconvert_exporter": "python",
   "pygments_lexer": "ipython3",
   "version": "3.13.0"
  },
  "prev_pub_hash": "8e1b9a014f4d5dd1f594f0f84b9e2a27c098aabf3c393aa0062e8aef51a297d0"
 },
 "nbformat": 4,
 "nbformat_minor": 4
}
