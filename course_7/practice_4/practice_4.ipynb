{
 "cells": [
  {
   "cell_type": "markdown",
   "id": "fd2863e3",
   "metadata": {
    "id": "fd2863e3"
   },
   "source": [
    "Course 7\n",
    "Coronavirus disease 2019 (COVID-19) is an infectious disease caused by severe acute respiratory syndrome coronavirus 2 (SARS-CoV-2). The disease was first identified in 2019 in Wuhan, China, and has since spread globally, resulting in the 2019–20 coronavirus pandemic. Common symptoms include fever, cough and shortness of breath. Muscle pain, sputum production and sore throat are less common. The rate of deaths per number of diagnosed cases is on average 3.4%, ranging from 0.2% in those less than 20 to approximately 15% in those over 80 years old.\n",
    "Data Source (Date wise) : 2019 Novel Coronavirus COVID-19 (2019-nCoV) Data Repository by Johns Hopkins CSSE\n",
    "Data Source:"
   ]
  },
  {
   "cell_type": "markdown",
   "id": "093fca82",
   "metadata": {
    "id": "093fca82"
   },
   "source": [
    "Field description\n",
    "•\tProvince/State: China - province name; US/Canada/Australia/ - city name, state/province name; Others - name of the event (e.g., \"Diamond Princess\" cruise ship); other countries - blank.\n",
    "•\tCountry/Region: country/region name conforming to WHO (will be updated).\n",
    "•\tLast Update: MM/DD/YYYY HH:mm (24 hour format, in UTC).\n",
    "•\tConfirmed: the number of confirmed cases. For Hubei Province: from Feb 13 (GMT +8), we report both clinically diagnosed and lab-confirmed cases. For lab-confirmed cases only (Before Feb 17), please refer to who_covid_19_situation_reports. For Italy, diagnosis standard might be changed since Feb 27 to \"slow the growth of new case numbers.\" (Source)\n",
    "•\tDeaths: the number of deaths.\n",
    "•\tRecovered: the number of recovered cases.\n",
    "\n",
    "\n",
    "Using above dataset we have created some exercises on COVID-19 (Spread of the novel coronavirus, Analysis, Visualization, Prediction & Comparisons.\n",
    "\n",
    "\n",
    "Please use jupyter lab on your local computer to solve all the questions written below. Each group needs to share one ipynb file."
   ]
  },
  {
   "cell_type": "markdown",
   "id": "925ee24d",
   "metadata": {
    "id": "925ee24d"
   },
   "source": [
    "1.\tWrite a Python program to display first 5 rows from COVID-19 dataset. Also print the dataset information and check the missing values."
   ]
  },
  {
   "cell_type": "code",
   "execution_count": null,
   "id": "0b4db172",
   "metadata": {},
   "outputs": [
    {
     "data": {
      "text/html": [
       "<div>\n",
       "<style scoped>\n",
       "    .dataframe tbody tr th:only-of-type {\n",
       "        vertical-align: middle;\n",
       "    }\n",
       "\n",
       "    .dataframe tbody tr th {\n",
       "        vertical-align: top;\n",
       "    }\n",
       "\n",
       "    .dataframe thead th {\n",
       "        text-align: right;\n",
       "    }\n",
       "</style>\n",
       "<table border=\"1\" class=\"dataframe\">\n",
       "  <thead>\n",
       "    <tr style=\"text-align: right;\">\n",
       "      <th></th>\n",
       "      <th>FIPS</th>\n",
       "      <th>Admin2</th>\n",
       "      <th>Province_State</th>\n",
       "      <th>Country_Region</th>\n",
       "      <th>Last_Update</th>\n",
       "      <th>Lat</th>\n",
       "      <th>Long_</th>\n",
       "      <th>Confirmed</th>\n",
       "      <th>Deaths</th>\n",
       "      <th>Recovered</th>\n",
       "      <th>Active</th>\n",
       "      <th>Combined_Key</th>\n",
       "      <th>Incident_Rate</th>\n",
       "      <th>Case_Fatality_Ratio</th>\n",
       "    </tr>\n",
       "  </thead>\n",
       "  <tbody>\n",
       "    <tr>\n",
       "      <th>0</th>\n",
       "      <td>NaN</td>\n",
       "      <td>NaN</td>\n",
       "      <td>NaN</td>\n",
       "      <td>Afghanistan</td>\n",
       "      <td>2021-08-20 04:21:33</td>\n",
       "      <td>33.93911</td>\n",
       "      <td>67.709953</td>\n",
       "      <td>152411</td>\n",
       "      <td>7047</td>\n",
       "      <td>NaN</td>\n",
       "      <td>NaN</td>\n",
       "      <td>Afghanistan</td>\n",
       "      <td>391.516813</td>\n",
       "      <td>4.623682</td>\n",
       "    </tr>\n",
       "    <tr>\n",
       "      <th>1</th>\n",
       "      <td>NaN</td>\n",
       "      <td>NaN</td>\n",
       "      <td>NaN</td>\n",
       "      <td>Albania</td>\n",
       "      <td>2021-08-20 04:21:33</td>\n",
       "      <td>41.15330</td>\n",
       "      <td>20.168300</td>\n",
       "      <td>137597</td>\n",
       "      <td>2473</td>\n",
       "      <td>NaN</td>\n",
       "      <td>NaN</td>\n",
       "      <td>Albania</td>\n",
       "      <td>4781.326013</td>\n",
       "      <td>1.797278</td>\n",
       "    </tr>\n",
       "    <tr>\n",
       "      <th>2</th>\n",
       "      <td>NaN</td>\n",
       "      <td>NaN</td>\n",
       "      <td>NaN</td>\n",
       "      <td>Algeria</td>\n",
       "      <td>2021-08-20 04:21:33</td>\n",
       "      <td>28.03390</td>\n",
       "      <td>1.659600</td>\n",
       "      <td>190078</td>\n",
       "      <td>4929</td>\n",
       "      <td>NaN</td>\n",
       "      <td>NaN</td>\n",
       "      <td>Algeria</td>\n",
       "      <td>433.462894</td>\n",
       "      <td>2.593146</td>\n",
       "    </tr>\n",
       "    <tr>\n",
       "      <th>3</th>\n",
       "      <td>NaN</td>\n",
       "      <td>NaN</td>\n",
       "      <td>NaN</td>\n",
       "      <td>Andorra</td>\n",
       "      <td>2021-08-20 04:21:33</td>\n",
       "      <td>42.50630</td>\n",
       "      <td>1.521800</td>\n",
       "      <td>14981</td>\n",
       "      <td>129</td>\n",
       "      <td>NaN</td>\n",
       "      <td>NaN</td>\n",
       "      <td>Andorra</td>\n",
       "      <td>19389.115382</td>\n",
       "      <td>0.861091</td>\n",
       "    </tr>\n",
       "    <tr>\n",
       "      <th>4</th>\n",
       "      <td>NaN</td>\n",
       "      <td>NaN</td>\n",
       "      <td>NaN</td>\n",
       "      <td>Angola</td>\n",
       "      <td>2021-08-20 04:21:33</td>\n",
       "      <td>-11.20270</td>\n",
       "      <td>17.873900</td>\n",
       "      <td>45325</td>\n",
       "      <td>1133</td>\n",
       "      <td>NaN</td>\n",
       "      <td>NaN</td>\n",
       "      <td>Angola</td>\n",
       "      <td>137.907352</td>\n",
       "      <td>2.499724</td>\n",
       "    </tr>\n",
       "  </tbody>\n",
       "</table>\n",
       "</div>"
      ],
      "text/plain": [
       "   FIPS Admin2 Province_State Country_Region          Last_Update       Lat  \\\n",
       "0   NaN    NaN            NaN    Afghanistan  2021-08-20 04:21:33  33.93911   \n",
       "1   NaN    NaN            NaN        Albania  2021-08-20 04:21:33  41.15330   \n",
       "2   NaN    NaN            NaN        Algeria  2021-08-20 04:21:33  28.03390   \n",
       "3   NaN    NaN            NaN        Andorra  2021-08-20 04:21:33  42.50630   \n",
       "4   NaN    NaN            NaN         Angola  2021-08-20 04:21:33 -11.20270   \n",
       "\n",
       "       Long_  Confirmed  Deaths  Recovered  Active Combined_Key  \\\n",
       "0  67.709953     152411    7047        NaN     NaN  Afghanistan   \n",
       "1  20.168300     137597    2473        NaN     NaN      Albania   \n",
       "2   1.659600     190078    4929        NaN     NaN      Algeria   \n",
       "3   1.521800      14981     129        NaN     NaN      Andorra   \n",
       "4  17.873900      45325    1133        NaN     NaN       Angola   \n",
       "\n",
       "   Incident_Rate  Case_Fatality_Ratio  \n",
       "0     391.516813             4.623682  \n",
       "1    4781.326013             1.797278  \n",
       "2     433.462894             2.593146  \n",
       "3   19389.115382             0.861091  \n",
       "4     137.907352             2.499724  "
      ]
     },
     "execution_count": 2,
     "metadata": {},
     "output_type": "execute_result"
    }
   ],
   "source": [
    "import pandas as pd\n",
    "import numpy as np\n",
    "import matplotlib.pyplot as plt\n",
    "\n",
    "path = 'https://raw.githubusercontent.com/CSSEGISandData/COVID-19/master/csse_covid_19_data/csse_covid_19_daily_reports/08-19-2021.csv'\n",
    "df= pd.read_csv(path)\n",
    "df.head()"
   ]
  },
  {
   "cell_type": "code",
   "execution_count": 3,
   "id": "d0fb1db7",
   "metadata": {},
   "outputs": [
    {
     "data": {
      "text/plain": [
       "FIPS                    748\n",
       "Admin2                  743\n",
       "Province_State          179\n",
       "Country_Region            0\n",
       "Last_Update               0\n",
       "Lat                      90\n",
       "Long_                    90\n",
       "Confirmed                 0\n",
       "Deaths                    0\n",
       "Recovered              3986\n",
       "Active                 3986\n",
       "Combined_Key              0\n",
       "Incident_Rate            90\n",
       "Case_Fatality_Ratio      42\n",
       "dtype: int64"
      ]
     },
     "execution_count": 3,
     "metadata": {},
     "output_type": "execute_result"
    }
   ],
   "source": [
    "df.isna().sum()"
   ]
  },
  {
   "cell_type": "code",
   "execution_count": 4,
   "id": "f2f41664",
   "metadata": {},
   "outputs": [
    {
     "data": {
      "text/plain": [
       "np.int64(179)"
      ]
     },
     "execution_count": 4,
     "metadata": {},
     "output_type": "execute_result"
    }
   ],
   "source": [
    "df['Province_State'].isna().sum()"
   ]
  },
  {
   "cell_type": "markdown",
   "id": "ada3d147",
   "metadata": {
    "id": "ada3d147"
   },
   "source": [
    "2.\tWrite a python program to replace all the missing values with “Tobefound” for province column."
   ]
  },
  {
   "cell_type": "code",
   "execution_count": 5,
   "id": "4ac981cf",
   "metadata": {},
   "outputs": [
    {
     "name": "stderr",
     "output_type": "stream",
     "text": [
      "/var/folders/yh/sr9vkjxx5x19f5bqrcbv7z140000gn/T/ipykernel_16733/3463938706.py:1: FutureWarning: A value is trying to be set on a copy of a DataFrame or Series through chained assignment using an inplace method.\n",
      "The behavior will change in pandas 3.0. This inplace method will never work because the intermediate object on which we are setting values always behaves as a copy.\n",
      "\n",
      "For example, when doing 'df[col].method(value, inplace=True)', try using 'df.method({col: value}, inplace=True)' or df[col] = df[col].method(value) instead, to perform the operation inplace on the original object.\n",
      "\n",
      "\n",
      "  df['Province_State'].replace(np.nan,'ToBeFound',inplace=True)\n"
     ]
    }
   ],
   "source": [
    "df['Province_State'].replace(np.nan,'ToBeFound',inplace=True)"
   ]
  },
  {
   "cell_type": "markdown",
   "id": "3a044bd3",
   "metadata": {
    "id": "3a044bd3"
   },
   "source": [
    "3.\tNormalize the values for “Recovered” column as per the z-score."
   ]
  },
  {
   "cell_type": "code",
   "execution_count": 7,
   "id": "bdaf75a0",
   "metadata": {},
   "outputs": [],
   "source": [
    "recMean = df['Recovered'].mean()\n",
    "df['Recovered'].replace(np.nan,recMean,inplace=True)\n",
    "\n",
    "df['RecoveredNorm'] = (df['Recovered']-df['Recovered'].mean())/df['Recovered'].std()"
   ]
  },
  {
   "cell_type": "markdown",
   "id": "ee124e07",
   "metadata": {
    "id": "ee124e07"
   },
   "source": [
    "4.\tCreate bin values for “Recovered” column in the data set."
   ]
  },
  {
   "cell_type": "code",
   "execution_count": 21,
   "id": "6dbbe6f4",
   "metadata": {},
   "outputs": [
    {
     "data": {
      "image/png": "[encoded data removed]",
      "text/plain": [
       "<Figure size 640x480 with 1 Axes>"
      ]
     },
     "metadata": {},
     "output_type": "display_data"
    }
   ],
   "source": [
    "recBins = [df['RecoveredNorm'].min(),-1,0,1,df['RecoveredNorm'].max()]\n",
    "binName = [\"Low\",\"Average\",\"Average\", \"High\"]\n",
    "\n",
    "df[\"RecoveredBin\"] = pd.cut(df['RecoveredNorm'],recBins,labels=binName,ordered=False,include_lowest=True)\n",
    "\n",
    "plt.hist(df['RecoveredNorm'], [df['RecoveredNorm'].min(),-1,0,1,df['RecoveredNorm'].max()], facecolor='g')\n",
    "\n",
    "plt.xlabel('Smarts')\n",
    "plt.title('Histogram of IQ')\n",
    "# plt.text(60, .025, r'$\\mu=100,\\ \\sigma=15$')\n",
    "plt.xlabel(\"IDK\")\n",
    "plt.grid(True)\n",
    "plt.show()\n"
   ]
  },
  {
   "cell_type": "markdown",
   "id": "1be95732",
   "metadata": {
    "id": "1be95732"
   },
   "source": [
    "5.\tWrite a Python program to get the maximum number of confirmed, deaths, recovered and active cases of Novel Coronavirus (COVID-19) Country wise."
   ]
  },
  {
   "cell_type": "markdown",
   "id": "01a72a7e",
   "metadata": {
    "id": "01a72a7e"
   },
   "source": [
    "6.\t Write a Python program to get the total number of confirmed deaths and recovered people of Novel Coronavirus (COVID-19) cases Country/Region - Province/State wise"
   ]
  },
  {
   "cell_type": "markdown",
   "id": "42a494b4",
   "metadata": {
    "id": "42a494b4"
   },
   "source": [
    "7.\tWrite a Python program to get the country wise (country name taken as input from user) cases of confirmed, deaths and recovered cases of Novel Coronavirus (COVID-19)."
   ]
  },
  {
   "cell_type": "markdown",
   "id": "1f6c54b6",
   "metadata": {
    "id": "1f6c54b6"
   },
   "source": [
    "8.\tWrite a Python program to get the country wise deaths cases of Novel Coronavirus (COVID-19)."
   ]
  },
  {
   "cell_type": "markdown",
   "id": "c50b9082",
   "metadata": {
    "id": "c50b9082"
   },
   "source": [
    "9.\tWrite a Python program to list countries with no cases of Novel Coronavirus (COVID-19) recovered."
   ]
  },
  {
   "cell_type": "markdown",
   "id": "cf24c490",
   "metadata": {
    "id": "cf24c490"
   },
   "source": [
    "10.\t Write a Python program to list countries where all cases of Novel Coronavirus (COVID-19) died."
   ]
  },
  {
   "cell_type": "markdown",
   "id": "80813b43",
   "metadata": {
    "id": "80813b43"
   },
   "source": [
    "11.\t Write a Python program to list countries with all cases of Novel Coronavirus (COVID-19) recovered."
   ]
  },
  {
   "cell_type": "markdown",
   "id": "a89e896c",
   "metadata": {
    "id": "a89e896c"
   },
   "source": [
    "12.\t Write a Python program to get the top 10 countries data (Last Update, Country/Region, Confirmed, Deaths, Recovered) of Novel Coronavirus (COVID-19)."
   ]
  },
  {
   "cell_type": "markdown",
   "id": "adb253d1",
   "metadata": {
    "id": "adb253d1"
   },
   "source": [
    "13.\tWrite a Python program to create a plot (lines) of total deaths, confirmed, recovered and active cases Country wise where deaths greater than 150."
   ]
  },
  {
   "cell_type": "code",
   "execution_count": null,
   "id": "2029b8ef",
   "metadata": {
    "id": "2029b8ef"
   },
   "outputs": [],
   "source": []
  }
 ],
 "metadata": {
  "colab": {
   "provenance": []
  },
  "kernelspec": {
   "display_name": ".venv",
   "language": "python",
   "name": "python3"
  },
  "language_info": {
   "codemirror_mode": {
    "name": "ipython",
    "version": 3
   },
   "file_extension": ".py",
   "mimetype": "text/x-python",
   "name": "python",
   "nbconvert_exporter": "python",
   "pygments_lexer": "ipython3",
   "version": "3.13.0"
  }
 },
 "nbformat": 4,
 "nbformat_minor": 5
}
