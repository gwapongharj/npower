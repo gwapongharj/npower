{
 "cells": [
  {
   "cell_type": "markdown",
   "id": "fd2863e3",
   "metadata": {
    "id": "fd2863e3"
   },
   "source": [
    "Course 7\n",
    "Coronavirus disease 2019 (COVID-19) is an infectious disease caused by severe acute respiratory syndrome coronavirus 2 (SARS-CoV-2). The disease was first identified in 2019 in Wuhan, China, and has since spread globally, resulting in the 2019–20 coronavirus pandemic. Common symptoms include fever, cough and shortness of breath. Muscle pain, sputum production and sore throat are less common. The rate of deaths per number of diagnosed cases is on average 3.4%, ranging from 0.2% in those less than 20 to approximately 15% in those over 80 years old.\n",
    "Data Source (Date wise) : 2019 Novel Coronavirus COVID-19 (2019-nCoV) Data Repository by Johns Hopkins CSSE\n",
    "Data Source:"
   ]
  },
  {
   "cell_type": "markdown",
   "id": "093fca82",
   "metadata": {
    "id": "093fca82"
   },
   "source": [
    "Field description\n",
    "•\tProvince/State: China - province name; US/Canada/Australia/ - city name, state/province name; Others - name of the event (e.g., \"Diamond Princess\" cruise ship); other countries - blank.\n",
    "•\tCountry/Region: country/region name conforming to WHO (will be updated).\n",
    "•\tLast Update: MM/DD/YYYY HH:mm (24 hour format, in UTC).\n",
    "•\tConfirmed: the number of confirmed cases. For Hubei Province: from Feb 13 (GMT +8), we report both clinically diagnosed and lab-confirmed cases. For lab-confirmed cases only (Before Feb 17), please refer to who_covid_19_situation_reports. For Italy, diagnosis standard might be changed since Feb 27 to \"slow the growth of new case numbers.\" (Source)\n",
    "•\tDeaths: the number of deaths.\n",
    "•\tRecovered: the number of recovered cases.\n",
    "\n",
    "\n",
    "Using above dataset we have created some exercises on COVID-19 (Spread of the novel coronavirus, Analysis, Visualization, Prediction & Comparisons.\n",
    "\n",
    "\n",
    "Please use jupyter lab on your local computer to solve all the questions written below. Each group needs to share one ipynb file."
   ]
  },
  {
   "cell_type": "markdown",
   "id": "925ee24d",
   "metadata": {
    "id": "925ee24d"
   },
   "source": [
    "1.\tWrite a Python program to display first 5 rows from COVID-19 dataset. Also print the dataset information and check the missing values."
   ]
  },
  {
   "cell_type": "code",
   "execution_count": 3,
   "id": "0b4db172",
   "metadata": {},
   "outputs": [
    {
     "data": {
      "text/html": [
       "<div>\n",
       "<style scoped>\n",
       "    .dataframe tbody tr th:only-of-type {\n",
       "        vertical-align: middle;\n",
       "    }\n",
       "\n",
       "    .dataframe tbody tr th {\n",
       "        vertical-align: top;\n",
       "    }\n",
       "\n",
       "    .dataframe thead th {\n",
       "        text-align: right;\n",
       "    }\n",
       "</style>\n",
       "<table border=\"1\" class=\"dataframe\">\n",
       "  <thead>\n",
       "    <tr style=\"text-align: right;\">\n",
       "      <th></th>\n",
       "      <th>Province_State</th>\n",
       "      <th>Country_Region</th>\n",
       "      <th>Last_Update</th>\n",
       "      <th>Lat</th>\n",
       "      <th>Long_</th>\n",
       "      <th>Confirmed</th>\n",
       "      <th>Deaths</th>\n",
       "      <th>Recovered</th>\n",
       "      <th>Active</th>\n",
       "      <th>FIPS</th>\n",
       "      <th>...</th>\n",
       "      <th>Total_Test_Results</th>\n",
       "      <th>People_Hospitalized</th>\n",
       "      <th>Case_Fatality_Ratio</th>\n",
       "      <th>UID</th>\n",
       "      <th>ISO3</th>\n",
       "      <th>Testing_Rate</th>\n",
       "      <th>Hospitalization_Rate</th>\n",
       "      <th>Date</th>\n",
       "      <th>People_Tested</th>\n",
       "      <th>Mortality_Rate</th>\n",
       "    </tr>\n",
       "  </thead>\n",
       "  <tbody>\n",
       "    <tr>\n",
       "      <th>0</th>\n",
       "      <td>Alabama</td>\n",
       "      <td>US</td>\n",
       "      <td>2021-01-05 05:30:33</td>\n",
       "      <td>32.3182</td>\n",
       "      <td>-86.9023</td>\n",
       "      <td>374095</td>\n",
       "      <td>4878</td>\n",
       "      <td>202137.0</td>\n",
       "      <td>167080.0</td>\n",
       "      <td>1.0</td>\n",
       "      <td>...</td>\n",
       "      <td>NaN</td>\n",
       "      <td>NaN</td>\n",
       "      <td>1.303947</td>\n",
       "      <td>84000001.0</td>\n",
       "      <td>USA</td>\n",
       "      <td>NaN</td>\n",
       "      <td>NaN</td>\n",
       "      <td>2021-01-04</td>\n",
       "      <td>NaN</td>\n",
       "      <td>NaN</td>\n",
       "    </tr>\n",
       "    <tr>\n",
       "      <th>1</th>\n",
       "      <td>Alaska</td>\n",
       "      <td>US</td>\n",
       "      <td>2021-01-05 05:30:33</td>\n",
       "      <td>61.3707</td>\n",
       "      <td>-152.4044</td>\n",
       "      <td>48382</td>\n",
       "      <td>218</td>\n",
       "      <td>7165.0</td>\n",
       "      <td>40999.0</td>\n",
       "      <td>2.0</td>\n",
       "      <td>...</td>\n",
       "      <td>1297498.0</td>\n",
       "      <td>NaN</td>\n",
       "      <td>0.450581</td>\n",
       "      <td>84000002.0</td>\n",
       "      <td>USA</td>\n",
       "      <td>177364.071930</td>\n",
       "      <td>NaN</td>\n",
       "      <td>2021-01-04</td>\n",
       "      <td>NaN</td>\n",
       "      <td>NaN</td>\n",
       "    </tr>\n",
       "    <tr>\n",
       "      <th>2</th>\n",
       "      <td>American Samoa</td>\n",
       "      <td>US</td>\n",
       "      <td>2021-01-05 05:30:33</td>\n",
       "      <td>-14.2710</td>\n",
       "      <td>-170.1320</td>\n",
       "      <td>0</td>\n",
       "      <td>0</td>\n",
       "      <td>NaN</td>\n",
       "      <td>NaN</td>\n",
       "      <td>60.0</td>\n",
       "      <td>...</td>\n",
       "      <td>2140.0</td>\n",
       "      <td>NaN</td>\n",
       "      <td>NaN</td>\n",
       "      <td>16.0</td>\n",
       "      <td>ASM</td>\n",
       "      <td>3846.084722</td>\n",
       "      <td>NaN</td>\n",
       "      <td>2021-01-04</td>\n",
       "      <td>NaN</td>\n",
       "      <td>NaN</td>\n",
       "    </tr>\n",
       "    <tr>\n",
       "      <th>3</th>\n",
       "      <td>Arizona</td>\n",
       "      <td>US</td>\n",
       "      <td>2021-01-05 05:30:33</td>\n",
       "      <td>33.7298</td>\n",
       "      <td>-111.4312</td>\n",
       "      <td>561542</td>\n",
       "      <td>9064</td>\n",
       "      <td>79480.0</td>\n",
       "      <td>472998.0</td>\n",
       "      <td>4.0</td>\n",
       "      <td>...</td>\n",
       "      <td>5288658.0</td>\n",
       "      <td>NaN</td>\n",
       "      <td>1.614127</td>\n",
       "      <td>84000004.0</td>\n",
       "      <td>USA</td>\n",
       "      <td>40358.609903</td>\n",
       "      <td>NaN</td>\n",
       "      <td>2021-01-04</td>\n",
       "      <td>NaN</td>\n",
       "      <td>NaN</td>\n",
       "    </tr>\n",
       "    <tr>\n",
       "      <th>4</th>\n",
       "      <td>Arkansas</td>\n",
       "      <td>US</td>\n",
       "      <td>2021-01-05 05:30:33</td>\n",
       "      <td>34.9697</td>\n",
       "      <td>-92.3731</td>\n",
       "      <td>234781</td>\n",
       "      <td>3800</td>\n",
       "      <td>207898.0</td>\n",
       "      <td>23083.0</td>\n",
       "      <td>5.0</td>\n",
       "      <td>...</td>\n",
       "      <td>2095621.0</td>\n",
       "      <td>NaN</td>\n",
       "      <td>1.618530</td>\n",
       "      <td>84000005.0</td>\n",
       "      <td>USA</td>\n",
       "      <td>69441.918693</td>\n",
       "      <td>NaN</td>\n",
       "      <td>2021-01-04</td>\n",
       "      <td>NaN</td>\n",
       "      <td>NaN</td>\n",
       "    </tr>\n",
       "  </tbody>\n",
       "</table>\n",
       "<p>5 rows × 21 columns</p>\n",
       "</div>"
      ],
      "text/plain": [
       "   Province_State Country_Region          Last_Update      Lat     Long_  \\\n",
       "0         Alabama             US  2021-01-05 05:30:33  32.3182  -86.9023   \n",
       "1          Alaska             US  2021-01-05 05:30:33  61.3707 -152.4044   \n",
       "2  American Samoa             US  2021-01-05 05:30:33 -14.2710 -170.1320   \n",
       "3         Arizona             US  2021-01-05 05:30:33  33.7298 -111.4312   \n",
       "4        Arkansas             US  2021-01-05 05:30:33  34.9697  -92.3731   \n",
       "\n",
       "   Confirmed  Deaths  Recovered    Active  FIPS  ...  Total_Test_Results  \\\n",
       "0     374095    4878   202137.0  167080.0   1.0  ...                 NaN   \n",
       "1      48382     218     7165.0   40999.0   2.0  ...           1297498.0   \n",
       "2          0       0        NaN       NaN  60.0  ...              2140.0   \n",
       "3     561542    9064    79480.0  472998.0   4.0  ...           5288658.0   \n",
       "4     234781    3800   207898.0   23083.0   5.0  ...           2095621.0   \n",
       "\n",
       "   People_Hospitalized  Case_Fatality_Ratio         UID  ISO3   Testing_Rate  \\\n",
       "0                  NaN             1.303947  84000001.0   USA            NaN   \n",
       "1                  NaN             0.450581  84000002.0   USA  177364.071930   \n",
       "2                  NaN                  NaN        16.0   ASM    3846.084722   \n",
       "3                  NaN             1.614127  84000004.0   USA   40358.609903   \n",
       "4                  NaN             1.618530  84000005.0   USA   69441.918693   \n",
       "\n",
       "   Hospitalization_Rate        Date People_Tested  Mortality_Rate  \n",
       "0                   NaN  2021-01-04           NaN             NaN  \n",
       "1                   NaN  2021-01-04           NaN             NaN  \n",
       "2                   NaN  2021-01-04           NaN             NaN  \n",
       "3                   NaN  2021-01-04           NaN             NaN  \n",
       "4                   NaN  2021-01-04           NaN             NaN  \n",
       "\n",
       "[5 rows x 21 columns]"
      ]
     },
     "execution_count": 3,
     "metadata": {},
     "output_type": "execute_result"
    }
   ],
   "source": [
    "import pandas as pd\n",
    "import numpy as np\n",
    "\n",
    "path = 'https://raw.githubusercontent.com/CSSEGISandData/COVID-19/master/csse_covid_19_data/csse_covid_19_daily_reports_us/01-04-2021.csv'\n",
    "df= pd.read_csv(path)\n",
    "df.head()"
   ]
  },
  {
   "cell_type": "code",
   "execution_count": 4,
   "metadata": {},
   "outputs": [
    {
     "data": {
      "text/plain": [
       "Province_State           0\n",
       "Country_Region           0\n",
       "Last_Update              0\n",
       "Lat                      2\n",
       "Long_                    2\n",
       "Confirmed                0\n",
       "Deaths                   0\n",
       "Recovered               10\n",
       "Active                  10\n",
       "FIPS                     0\n",
       "Incident_Rate            2\n",
       "Total_Test_Results       3\n",
       "People_Hospitalized     58\n",
       "Case_Fatality_Ratio      1\n",
       "UID                      0\n",
       "ISO3                     0\n",
       "Testing_Rate             3\n",
       "Hospitalization_Rate    58\n",
       "Date                     0\n",
       "People_Tested           58\n",
       "Mortality_Rate          58\n",
       "dtype: int64"
      ]
     },
     "execution_count": 4,
     "metadata": {},
     "output_type": "execute_result"
    }
   ],
   "source": [
    "df.isna().sum()"
   ]
  },
  {
   "cell_type": "markdown",
   "id": "ada3d147",
   "metadata": {
    "id": "ada3d147"
   },
   "source": [
    "2.\tWrite a python program to replace all the missing values with “Tobefound” for province column."
   ]
  },
  {
   "cell_type": "code",
   "execution_count": null,
   "id": "4ac981cf",
   "metadata": {},
   "outputs": [
    {
     "name": "stdout",
     "output_type": "stream",
     "text": [
      "Is NOT null\n"
     ]
    }
   ],
   "source": [
    "# if(df['Province_State'].isnull | df['Province_State'].isna)\n",
    "# df.replace(\" \",np.nan,inplace=True)\n",
    "# else\n",
    "# df.replace(\" \",np.nan,inplace=True)\n",
    "if(df['Province_State'].isnull==True | df['Province_State'].isna==True):\n",
    "    print(\"Is null\")\n",
    "else:\n",
    "    print(\"Is NOT null\")"
   ]
  },
  {
   "cell_type": "markdown",
   "id": "3a044bd3",
   "metadata": {
    "id": "3a044bd3"
   },
   "source": [
    "3.\tNormalize the values for “Recovered” column as per the z-score."
   ]
  },
  {
   "cell_type": "markdown",
   "id": "ee124e07",
   "metadata": {
    "id": "ee124e07"
   },
   "source": [
    "4.\tCreate bin values for “Recovered” column in the data set."
   ]
  },
  {
   "cell_type": "markdown",
   "id": "1be95732",
   "metadata": {
    "id": "1be95732"
   },
   "source": [
    "5.\tWrite a Python program to get the maximum number of confirmed, deaths, recovered and active cases of Novel Coronavirus (COVID-19) Country wise."
   ]
  },
  {
   "cell_type": "markdown",
   "id": "01a72a7e",
   "metadata": {
    "id": "01a72a7e"
   },
   "source": [
    "6.\t Write a Python program to get the total number of confirmed deaths and recovered people of Novel Coronavirus (COVID-19) cases Country/Region - Province/State wise"
   ]
  },
  {
   "cell_type": "markdown",
   "id": "42a494b4",
   "metadata": {
    "id": "42a494b4"
   },
   "source": [
    "7.\tWrite a Python program to get the country wise (country name taken as input from user) cases of confirmed, deaths and recovered cases of Novel Coronavirus (COVID-19)."
   ]
  },
  {
   "cell_type": "markdown",
   "id": "1f6c54b6",
   "metadata": {
    "id": "1f6c54b6"
   },
   "source": [
    "8.\tWrite a Python program to get the country wise deaths cases of Novel Coronavirus (COVID-19)."
   ]
  },
  {
   "cell_type": "markdown",
   "id": "c50b9082",
   "metadata": {
    "id": "c50b9082"
   },
   "source": [
    "9.\tWrite a Python program to list countries with no cases of Novel Coronavirus (COVID-19) recovered."
   ]
  },
  {
   "cell_type": "markdown",
   "id": "cf24c490",
   "metadata": {
    "id": "cf24c490"
   },
   "source": [
    "10.\t Write a Python program to list countries where all cases of Novel Coronavirus (COVID-19) died."
   ]
  },
  {
   "cell_type": "markdown",
   "id": "80813b43",
   "metadata": {
    "id": "80813b43"
   },
   "source": [
    "11.\t Write a Python program to list countries with all cases of Novel Coronavirus (COVID-19) recovered."
   ]
  },
  {
   "cell_type": "markdown",
   "id": "a89e896c",
   "metadata": {
    "id": "a89e896c"
   },
   "source": [
    "12.\t Write a Python program to get the top 10 countries data (Last Update, Country/Region, Confirmed, Deaths, Recovered) of Novel Coronavirus (COVID-19)."
   ]
  },
  {
   "cell_type": "markdown",
   "id": "adb253d1",
   "metadata": {
    "id": "adb253d1"
   },
   "source": [
    "13.\tWrite a Python program to create a plot (lines) of total deaths, confirmed, recovered and active cases Country wise where deaths greater than 150."
   ]
  },
  {
   "cell_type": "code",
   "execution_count": null,
   "id": "2029b8ef",
   "metadata": {
    "id": "2029b8ef"
   },
   "outputs": [],
   "source": []
  }
 ],
 "metadata": {
  "colab": {
   "provenance": []
  },
  "kernelspec": {
   "display_name": ".venv",
   "language": "python",
   "name": "python3"
  },
  "language_info": {
   "codemirror_mode": {
    "name": "ipython",
    "version": 3
   },
   "file_extension": ".py",
   "mimetype": "text/x-python",
   "name": "python",
   "nbconvert_exporter": "python",
   "pygments_lexer": "ipython3",
   "version": "3.13.0"
  }
 },
 "nbformat": 4,
 "nbformat_minor": 5
}
